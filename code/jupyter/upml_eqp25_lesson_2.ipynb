{
 "cells": [
  {
   "cell_type": "markdown",
   "id": "b77a5d3c-8d2b-4d07-a920-9ceab8a5cbbd",
   "metadata": {},
   "source": [
    "# Lecture 2: Tensor Product and Composite (Multipartite, Multicomponent) Systems"
   ]
  },
  {
   "cell_type": "markdown",
   "id": "8968904f-ebd0-45f4-9adc-a1497f9ffe84",
   "metadata": {},
   "source": [
    "## Part A: Introduction to Tensor Product"
   ]
  },
  {
   "cell_type": "code",
   "execution_count": 1,
   "id": "eb054f01-b056-4fe1-a546-fc2742ee2644",
   "metadata": {},
   "outputs": [],
   "source": [
    "from qutip import Qobj, ket, bra, fock, qeye"
   ]
  },
  {
   "cell_type": "markdown",
   "id": "8f6f7ac3-0f23-47f8-bdab-a6521c50582f",
   "metadata": {},
   "source": [
    "Let's start from simplest quantum systems -- qubits. They have only two distinct basis states (but they can be in infinitely many states, called superposition)."
   ]
  },
  {
   "cell_type": "code",
   "execution_count": 2,
   "id": "6652f249-6c38-41fc-9518-a30a90e853b2",
   "metadata": {},
   "outputs": [],
   "source": [
    "I = qeye(2)  # identity operator for vectors in a plane (2D state vectors)\n",
    "J = Qobj([[0, -1], [1, 0]])"
   ]
  },
  {
   "cell_type": "code",
   "execution_count": 4,
   "id": "761c1caf-bb78-4e6e-aa12-eea8c8f32819",
   "metadata": {},
   "outputs": [],
   "source": [
    "# let's create a basis -- independent vectors (non-parallel)\n",
    "gnd = ket(\"0\")  # ground state -- lower energy\n",
    "exc = ket(\"1\")  # excited state -- higher energy"
   ]
  },
  {
   "cell_type": "markdown",
   "id": "3e146063-ef1e-434d-b067-6ccf1012d568",
   "metadata": {},
   "source": [
    "Checking that it is a orthonormal (orthogonal -- perpendicular) and normalized basis"
   ]
  },
  {
   "cell_type": "code",
   "execution_count": 9,
   "id": "c304cbc5-43ad-443b-b004-a74ceb8e6dc5",
   "metadata": {},
   "outputs": [
    {
     "data": {
      "text/plain": [
       "True"
      ]
     },
     "execution_count": 9,
     "metadata": {},
     "output_type": "execute_result"
    }
   ],
   "source": [
    "gnd.dag() * gnd == 1  # normalized"
   ]
  },
  {
   "cell_type": "code",
   "execution_count": 10,
   "id": "a898d9b8-a427-4a96-9fb6-f26f58e3f7c9",
   "metadata": {},
   "outputs": [
    {
     "data": {
      "text/plain": [
       "True"
      ]
     },
     "execution_count": 10,
     "metadata": {},
     "output_type": "execute_result"
    }
   ],
   "source": [
    "exc.dag() * exc == 1  # normalized"
   ]
  },
  {
   "cell_type": "code",
   "execution_count": 11,
   "id": "b51120c1-0ae7-48b0-ad32-2b075f5e8321",
   "metadata": {},
   "outputs": [
    {
     "data": {
      "text/plain": [
       "True"
      ]
     },
     "execution_count": 11,
     "metadata": {},
     "output_type": "execute_result"
    }
   ],
   "source": [
    "gnd.dag() * exc == 0  # orthogonal"
   ]
  },
  {
   "cell_type": "markdown",
   "id": "494b8ae4-e591-4291-95e1-074c8d452c98",
   "metadata": {},
   "source": [
    "What happens if we multiply in the revered order? \"ket * bra\" instead of \"bra * ket\":"
   ]
  },
  {
   "cell_type": "code",
   "execution_count": 12,
   "id": "b29e3f45-9dbf-4fba-8549-48441130ddc0",
   "metadata": {},
   "outputs": [
    {
     "data": {
      "text/latex": [
       "Quantum object: dims=[[2], [2]], shape=(2, 2), type='oper', dtype=Dense, isherm=True$$\\left(\\begin{array}{cc}1 & 0\\\\0 & 0\\end{array}\\right)$$"
      ],
      "text/plain": [
       "Quantum object: dims=[[2], [2]], shape=(2, 2), type='oper', dtype=Dense, isherm=True\n",
       "Qobj data =\n",
       "[[1. 0.]\n",
       " [0. 0.]]"
      ]
     },
     "execution_count": 12,
     "metadata": {},
     "output_type": "execute_result"
    }
   ],
   "source": [
    "gnd * gnd.dag()"
   ]
  },
  {
   "cell_type": "markdown",
   "id": "2d7610b9-de24-4a01-829e-c0d37af5a002",
   "metadata": {},
   "source": [
    "NOTE: The result is *not* a number, but an operator (tensor). Thus, we obtain an operator $|gnd\\rangle\\otimes\\langle gnd|$ using tensor product $\\otimes.$"
   ]
  },
  {
   "cell_type": "markdown",
   "id": "38cc1db2-81ee-40ec-b35a-3570f44daf64",
   "metadata": {},
   "source": [
    "**Exercise**: Study other products $|exc\\rangle\\otimes\\langle exc|$,  $|exc\\rangle\\otimes\\langle gnd|$,  and $|gnd\\rangle\\otimes\\langle exc|$."
   ]
  },
  {
   "cell_type": "markdown",
   "id": "0ee89b66-90f6-461b-9cc8-f7b8e53101e4",
   "metadata": {},
   "source": [
    "**Question**: What happens if we try multiplying \"ket * ket\" or \"bra * bra\"? Let's try:"
   ]
  },
  {
   "cell_type": "code",
   "execution_count": 14,
   "id": "4127cb33-9409-41ea-9cd2-756a0f41ecc4",
   "metadata": {},
   "outputs": [
    {
     "name": "stdout",
     "output_type": "stream",
     "text": [
      "Can't multiply ket with ket\n"
     ]
    }
   ],
   "source": [
    "# Instead of just trying \"ket * ket\" and getting an error, we will use Python's way to handle risky operations -- \"try-catch\"  \n",
    "try:\n",
    "    gnd * gnd\n",
    "except:\n",
    "    print(\"Can't multiply ket with ket\")"
   ]
  },
  {
   "cell_type": "code",
   "execution_count": 15,
   "id": "a37f5a64-041f-4dc3-bb0c-a2eea40c7a19",
   "metadata": {},
   "outputs": [
    {
     "name": "stdout",
     "output_type": "stream",
     "text": [
      "Can't multiply ket with ket\n"
     ]
    }
   ],
   "source": [
    "try:\n",
    "    gnd * exc\n",
    "except:\n",
    "    print(\"Can't multiply ket with ket\")"
   ]
  },
  {
   "cell_type": "code",
   "execution_count": 16,
   "id": "42002ef9-152c-4a4a-9dca-a075acbdb019",
   "metadata": {},
   "outputs": [
    {
     "name": "stdout",
     "output_type": "stream",
     "text": [
      "Can't multiply bra with bra\n"
     ]
    }
   ],
   "source": [
    "try:\n",
    "    gnd.dag() * exc.dag()\n",
    "except:\n",
    "    print(\"Can't multiply bra with bra\")"
   ]
  },
  {
   "cell_type": "markdown",
   "id": "51f436d2-a78a-4a9e-b61f-89697806c283",
   "metadata": {},
   "source": [
    "So, how do we create new tensor products like $|gnd\\rangle\\otimes|gnd\\rangle$ or $\\langle exc|\\otimes\\langle gnd|$ and similar ones? We must use tensor product function."
   ]
  },
  {
   "cell_type": "code",
   "execution_count": 17,
   "id": "11a9e26b-4e16-45df-ac0e-1681c8995c9f",
   "metadata": {},
   "outputs": [],
   "source": [
    "from qutip import tensor"
   ]
  },
  {
   "cell_type": "code",
   "execution_count": 19,
   "id": "ea267a07-9b8c-4435-863e-5dd3693aba20",
   "metadata": {},
   "outputs": [
    {
     "data": {
      "text/latex": [
       "Quantum object: dims=[[2, 2], [1, 1]], shape=(4, 1), type='ket', dtype=Dense$$\\left(\\begin{array}{cc}1\\\\0\\\\0\\\\0\\end{array}\\right)$$"
      ],
      "text/plain": [
       "Quantum object: dims=[[2, 2], [1, 1]], shape=(4, 1), type='ket', dtype=Dense\n",
       "Qobj data =\n",
       "[[1.]\n",
       " [0.]\n",
       " [0.]\n",
       " [0.]]"
      ]
     },
     "execution_count": 19,
     "metadata": {},
     "output_type": "execute_result"
    }
   ],
   "source": [
    "psi1 = tensor(gnd, gnd)\n",
    "psi1"
   ]
  },
  {
   "cell_type": "markdown",
   "id": "79680354-94e2-4044-b639-258d1c42dfd6",
   "metadata": {},
   "source": [
    "**NOTE**: Notice that the result of \"ket * ket\" is another ket, NOT an operator."
   ]
  },
  {
   "cell_type": "markdown",
   "id": "3b256a4a-3fa1-4013-8ef6-b129596ecb05",
   "metadata": {},
   "source": [
    "**Exercise**: Calculate all possible tensor products from $|gnd\\rangle$, $|exc\\rangle$ and all their conjugates. Study their type."
   ]
  },
  {
   "cell_type": "code",
   "execution_count": 20,
   "id": "fc47b10f-219a-4ab5-8b41-db9788b7879e",
   "metadata": {},
   "outputs": [
    {
     "data": {
      "text/latex": [
       "Quantum object: dims=[[2, 1], [1, 2]], shape=(2, 2), type='oper', dtype=Dense, isherm=True$$\\left(\\begin{array}{cc}1 & 0\\\\0 & 0\\end{array}\\right)$$"
      ],
      "text/plain": [
       "Quantum object: dims=[[2, 1], [1, 2]], shape=(2, 2), type='oper', dtype=Dense, isherm=True\n",
       "Qobj data =\n",
       "[[1. 0.]\n",
       " [0. 0.]]"
      ]
     },
     "execution_count": 20,
     "metadata": {},
     "output_type": "execute_result"
    }
   ],
   "source": [
    "tensor(gnd, gnd.dag())"
   ]
  },
  {
   "cell_type": "markdown",
   "id": "023e82a3-2e39-4a23-b8a3-762a646bd3da",
   "metadata": {},
   "source": [
    "## Part B: Quantum Systems with Several Parts -- Composite or Multipartite Systems"
   ]
  },
  {
   "cell_type": "markdown",
   "id": "c535f1b4-bd58-45f2-b359-171ce9ec30bb",
   "metadata": {},
   "source": [
    "Single electron or single photon or single proton are boring. Even hydrogen atom has at least three parts: electron, proton, and electromagnetic field. To use quantum theory to describe experiments with real quantum systems, we must have a formalism/tools to represent states (state vectors) for quantum systems with parts.\n",
    "\n",
    "We will start with very simple case: Two qubits -- just two quantum systems each with just two possible states. Later we will generalize to qubit and an oscillator, two osillators, and all the way to many oscillators (quantum field model).\n",
    "\n",
    "Qubits are identical, they even can be in similar states (both in excited states, or both in ground state), but they MUST be somehow different. For example, two qubits in different places."
   ]
  },
  {
   "cell_type": "markdown",
   "id": "9c6bab9a-27d9-40bd-a7c2-a24794ce1ab5",
   "metadata": {},
   "source": [
    "There are just four distinct / basic states for a pair of qubits:\n",
    "\n",
    "$|\\Psi_1\\rangle=|gnd\\rangle\\otimes|gnd\\rangle$\n",
    "\n",
    "$|\\Psi_2\\rangle=|gnd\\rangle\\otimes|exc\\rangle$\n",
    "\n",
    "$|\\Psi_3\\rangle=|exc\\rangle\\otimes|gnd\\rangle$\n",
    "\n",
    "$|\\Psi_4\\rangle=|exc\\rangle\\otimes|exc\\rangle$"
   ]
  },
  {
   "cell_type": "code",
   "execution_count": 26,
   "id": "77693dfb-a2e0-438c-9c63-15de2a73c68f",
   "metadata": {},
   "outputs": [],
   "source": [
    "Psi1 = tensor(gnd, gnd)\n",
    "Psi2 = tensor(gnd, exc)\n",
    "Psi3 = tensor(exc, gnd)\n",
    "Psi4 = tensor(exc, exc)"
   ]
  },
  {
   "cell_type": "code",
   "execution_count": 27,
   "id": "e51a77ff-8192-4d6a-ac4f-4af13f41a954",
   "metadata": {},
   "outputs": [
    {
     "data": {
      "text/latex": [
       "Quantum object: dims=[[2, 2], [1, 1]], shape=(4, 1), type='ket', dtype=Dense$$\\left(\\begin{array}{cc}1\\\\0\\\\0\\\\0\\end{array}\\right)$$"
      ],
      "text/plain": [
       "Quantum object: dims=[[2, 2], [1, 1]], shape=(4, 1), type='ket', dtype=Dense\n",
       "Qobj data =\n",
       "[[1.]\n",
       " [0.]\n",
       " [0.]\n",
       " [0.]]"
      ]
     },
     "execution_count": 27,
     "metadata": {},
     "output_type": "execute_result"
    }
   ],
   "source": [
    "Psi1"
   ]
  },
  {
   "cell_type": "code",
   "execution_count": 28,
   "id": "96d87145-9e2a-47a9-a722-1ca5324815cb",
   "metadata": {},
   "outputs": [
    {
     "data": {
      "text/latex": [
       "Quantum object: dims=[[2, 2], [1, 1]], shape=(4, 1), type='ket', dtype=Dense$$\\left(\\begin{array}{cc}0\\\\1\\\\0\\\\0\\end{array}\\right)$$"
      ],
      "text/plain": [
       "Quantum object: dims=[[2, 2], [1, 1]], shape=(4, 1), type='ket', dtype=Dense\n",
       "Qobj data =\n",
       "[[0.]\n",
       " [1.]\n",
       " [0.]\n",
       " [0.]]"
      ]
     },
     "execution_count": 28,
     "metadata": {},
     "output_type": "execute_result"
    }
   ],
   "source": [
    "Psi2"
   ]
  },
  {
   "cell_type": "code",
   "execution_count": 29,
   "id": "956d1173-0cd4-4ae9-8987-67a142b278a6",
   "metadata": {},
   "outputs": [
    {
     "data": {
      "text/latex": [
       "Quantum object: dims=[[2, 2], [1, 1]], shape=(4, 1), type='ket', dtype=Dense$$\\left(\\begin{array}{cc}0\\\\0\\\\1\\\\0\\end{array}\\right)$$"
      ],
      "text/plain": [
       "Quantum object: dims=[[2, 2], [1, 1]], shape=(4, 1), type='ket', dtype=Dense\n",
       "Qobj data =\n",
       "[[0.]\n",
       " [0.]\n",
       " [1.]\n",
       " [0.]]"
      ]
     },
     "execution_count": 29,
     "metadata": {},
     "output_type": "execute_result"
    }
   ],
   "source": [
    "Psi3"
   ]
  },
  {
   "cell_type": "code",
   "execution_count": 30,
   "id": "4eb6d8df-be18-4765-8859-ecdaf81c556b",
   "metadata": {},
   "outputs": [
    {
     "data": {
      "text/latex": [
       "Quantum object: dims=[[2, 2], [1, 1]], shape=(4, 1), type='ket', dtype=Dense$$\\left(\\begin{array}{cc}0\\\\0\\\\0\\\\1\\end{array}\\right)$$"
      ],
      "text/plain": [
       "Quantum object: dims=[[2, 2], [1, 1]], shape=(4, 1), type='ket', dtype=Dense\n",
       "Qobj data =\n",
       "[[0.]\n",
       " [0.]\n",
       " [0.]\n",
       " [1.]]"
      ]
     },
     "execution_count": 30,
     "metadata": {},
     "output_type": "execute_result"
    }
   ],
   "source": [
    "Psi4"
   ]
  },
  {
   "cell_type": "markdown",
   "id": "40f7f2d1-c852-491c-90e4-a19ab0038e34",
   "metadata": {},
   "source": [
    "Of course we can have superposition of these states. For example $|\\Psi\\rangle=|\\Psi_1\\rangle-|\\Psi_2\\rangle+2|\\Psi_3\\rangle-|\\Psi_4\\rangle/3$"
   ]
  },
  {
   "cell_type": "code",
   "execution_count": 32,
   "id": "92e84895-2df1-4a7a-9379-6826ab6176db",
   "metadata": {},
   "outputs": [
    {
     "data": {
      "text/latex": [
       "Quantum object: dims=[[2, 2], [1, 1]], shape=(4, 1), type='ket', dtype=Dense$$\\left(\\begin{array}{cc}1\\\\-1\\\\2\\\\-0.250\\end{array}\\right)$$"
      ],
      "text/plain": [
       "Quantum object: dims=[[2, 2], [1, 1]], shape=(4, 1), type='ket', dtype=Dense\n",
       "Qobj data =\n",
       "[[ 1.  ]\n",
       " [-1.  ]\n",
       " [ 2.  ]\n",
       " [-0.25]]"
      ]
     },
     "execution_count": 32,
     "metadata": {},
     "output_type": "execute_result"
    }
   ],
   "source": [
    "Psi = Psi1 - Psi2 + 2*Psi3 - Psi4/4\n",
    "Psi"
   ]
  },
  {
   "cell_type": "markdown",
   "id": "6c272818-45dd-4ab8-bc95-67b8bddc991b",
   "metadata": {},
   "source": [
    "**Exercise**: Check whether the state $|\\Psi\\rangle$ is normalized. If not, how to fix it? Define normalized version of $|\\Psi\\rangle$. What does this state represent in terms of measurement results?"
   ]
  },
  {
   "cell_type": "markdown",
   "id": "474d77f8-0d6d-4a34-a6f5-6ea090440477",
   "metadata": {},
   "source": [
    "### Bell States"
   ]
  },
  {
   "cell_type": "markdown",
   "id": "f52eb314-1674-4723-99a6-bcc9b8a83865",
   "metadata": {},
   "source": [
    "There are certain states of the composite system \"qubit pair\" that were important in the derivation of special physical-mathematical theorems by John Stewart Bell (Bell inequalities):\n",
    "\n",
    "$|\\Phi_{+}\\rangle= \\left(|gnd\\rangle\\otimes|gnd\\rangle+|exc\\rangle\\otimes|exc\\rangle\\right)/\\sqrt{2}$ \n",
    "\n",
    "$|\\Phi_{-}\\rangle= \\left(|gnd\\rangle\\otimes|gnd\\rangle-|exc\\rangle\\otimes|exc\\rangle\\right)/\\sqrt{2}$ \n",
    "\n",
    "$|\\Psi_{+}\\rangle= \\left(|gnd\\rangle\\otimes|exc\\rangle+|exc\\rangle\\otimes|gnd\\rangle\\right)/\\sqrt{2}$ \n",
    "\n",
    "$|\\Psi_{-}\\rangle= \\left(|gnd\\rangle\\otimes|exc\\rangle-|exc\\rangle\\otimes|gnd\\rangle\\right)/\\sqrt{2}$ "
   ]
  },
  {
   "cell_type": "code",
   "execution_count": 34,
   "id": "7951767f-d63b-43ed-907c-53e97f93adb3",
   "metadata": {},
   "outputs": [],
   "source": [
    "from math import sqrt  # square root function is not loaded by default in Python. Surpise!"
   ]
  },
  {
   "cell_type": "code",
   "execution_count": 35,
   "id": "0459178c-3bf5-49fe-9bee-ba7ba4719217",
   "metadata": {},
   "outputs": [],
   "source": [
    "Phip = (Psi1+Psi4)/sqrt(2)\n",
    "Phim = (Psi1-Psi4)/sqrt(2)\n",
    "Psip = (Psi2+Psi3)/sqrt(2)\n",
    "Psim = (Psi2-Psi3)/sqrt(2)"
   ]
  },
  {
   "cell_type": "markdown",
   "id": "3c1dd42b-21a5-4d71-af71-17a03d89da49",
   "metadata": {},
   "source": [
    "**Exercise**: Check whether Bell states are orthonormal between each other. Find all relevant brackets and see if they are 0 or 1."
   ]
  },
  {
   "cell_type": "markdown",
   "id": "073fdd2b-598f-4f91-9c5b-b2283b8d1386",
   "metadata": {},
   "source": [
    "**Exercise**: What do Bell states mean in terms of the measurement results?"
   ]
  },
  {
   "cell_type": "markdown",
   "id": "5340b3dc-b182-4395-9cab-f69fa4883417",
   "metadata": {},
   "source": [
    "### GHZ State"
   ]
  },
  {
   "cell_type": "markdown",
   "id": "162aa795-9755-41c8-b120-d159bc48f3dd",
   "metadata": {},
   "source": [
    "There exists in quantum theory a special area in which the fundamental features of quantum physics are studied. In particular, many researchers look for the feature of quantum physics which make is _completely_ different from any form of classical physics and thinking.\n",
    "\n",
    "In 1989, Daniel Greenberger, Michael Horne, and Anton Zeilinger (GHZ) proposed to study a composite system made of three qubits. Their focus was on one particular state:\n",
    "\n",
    "$|GHZ\\rangle = \\left(|0\\rangle\\otimes|0\\rangle\\otimes|0\\rangle+|1\\rangle\\otimes|1\\rangle\\otimes|1\\rangle\\right)/\\sqrt{2}$\n",
    "\n",
    "or \n",
    "\n",
    "$|GHZ\\rangle = \\left(|0\\rangle|0\\rangle|0\\rangle+|1\\rangle|1\\rangle|1\\rangle\\right)/\\sqrt{2}$\n",
    "\n",
    "in more economical notation.\n",
    "\n",
    "GHZ proposed certain experiments with light, prepared in GHZ state, where the prediction of quantum mechanics are completely opposite of what classical physics predicts."
   ]
  },
  {
   "cell_type": "markdown",
   "id": "ea3e7b8b-57e8-4cfc-a4eb-6b923fffd27c",
   "metadata": {},
   "source": [
    "**Exercse**: Defined GHZ state in python. Also define another state, similar to GHZ but orthogonal to it."
   ]
  },
  {
   "cell_type": "code",
   "execution_count": null,
   "id": "858711d1-3a7c-4a36-8e09-fa906958559e",
   "metadata": {},
   "outputs": [],
   "source": []
  }
 ],
 "metadata": {
  "kernelspec": {
   "display_name": "Python 3 (ipykernel)",
   "language": "python",
   "name": "python3"
  },
  "language_info": {
   "codemirror_mode": {
    "name": "ipython",
    "version": 3
   },
   "file_extension": ".py",
   "mimetype": "text/x-python",
   "name": "python",
   "nbconvert_exporter": "python",
   "pygments_lexer": "ipython3",
   "version": "3.12.6"
  }
 },
 "nbformat": 4,
 "nbformat_minor": 5
}
