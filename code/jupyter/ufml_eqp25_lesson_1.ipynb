{
 "cells": [
  {
   "cell_type": "markdown",
   "id": "a37990bd",
   "metadata": {},
   "source": [
    "# Lecture 1 - Introduction to Programming Quantum Systems with QuTiP"
   ]
  },
  {
   "cell_type": "markdown",
   "id": "e022841c-bd03-4ef5-950f-d121b77c9de2",
   "metadata": {},
   "source": [
    "## Part A : Playing around with quantum objects -- state vectors and operators"
   ]
  },
  {
   "cell_type": "markdown",
   "id": "fa0cf405-d115-4d85-883b-2ddbcdeea821",
   "metadata": {},
   "source": [
    "### We need objects and functions related to quantum physics"
   ]
  },
  {
   "cell_type": "code",
   "execution_count": 106,
   "id": "af1382f0-c57f-4c4b-abbc-f608d38bcdc1",
   "metadata": {},
   "outputs": [],
   "source": [
    "# let's load two most basis elements -- bra and ket vectors, and Qobj -- generic quantum object\n",
    "from qutip import ket, bra, Qobj"
   ]
  },
  {
   "cell_type": "code",
   "execution_count": 49,
   "id": "425d8c9b-6256-4590-b809-cffe34a996c2",
   "metadata": {},
   "outputs": [
    {
     "data": {
      "text/latex": [
       "Quantum object: dims=[[2], [1]], shape=(2, 1), type='ket', dtype=Dense$$\\left(\\begin{array}{cc}1\\\\0\\end{array}\\right)$$"
      ],
      "text/plain": [
       "Quantum object: dims=[[2], [1]], shape=(2, 1), type='ket', dtype=Dense\n",
       "Qobj data =\n",
       "[[1.]\n",
       " [0.]]"
      ]
     },
     "execution_count": 49,
     "metadata": {},
     "output_type": "execute_result"
    }
   ],
   "source": [
    "# Although we used notation |a> and |b> for vectors, please avoid these in quantum theory\n",
    "# 'a' is reserved for special operators that represent excitation of oscillator (creation and annihilation operators)\n",
    "\n",
    "# let's create a simple ket-state for a simple qubit (quantum system with only two states, usually denoted as 0 or 1)\n",
    "q = ket(\"0\")\n",
    "q"
   ]
  },
  {
   "cell_type": "markdown",
   "id": "66083b16-c300-4c90-8ca9-ef70d409ac18",
   "metadata": {},
   "source": [
    "In quantum theory conjugation is an operation that is represented using \"dagger\" notation: $\\hat{a}\\quad\\rightarrow\\quad \\hat{a}^\\dagger$ and $|\\psi\\rangle^\\dagger=\\langle \\psi|$"
   ]
  },
  {
   "cell_type": "code",
   "execution_count": 47,
   "id": "07aeb59e-33ae-4426-92ee-9efa8c6304a8",
   "metadata": {},
   "outputs": [
    {
     "data": {
      "text/latex": [
       "Quantum object: dims=[[1], [2]], shape=(1, 2), type='bra', dtype=Dense$$\\left(\\begin{array}{cc}1 & 0\\end{array}\\right)$$"
      ],
      "text/plain": [
       "Quantum object: dims=[[1], [2]], shape=(1, 2), type='bra', dtype=Dense\n",
       "Qobj data =\n",
       "[[1. 0.]]"
      ]
     },
     "execution_count": 47,
     "metadata": {},
     "output_type": "execute_result"
    }
   ],
   "source": [
    "q.dag()"
   ]
  },
  {
   "cell_type": "markdown",
   "id": "b6fdb3d1-cdf0-4467-8b5c-2d7c6fa4c3e3",
   "metadata": {},
   "source": [
    "Notice how the type of the quantum object changed from 'ket' to 'bra'. Also the numerical representation changed from column to a row. This is also reflected in the information about \"dimensionality\" (shape) of the object, from 2x1 (2 row 1 column) into 1x2 (1 row 2 columns)."
   ]
  },
  {
   "cell_type": "markdown",
   "id": "4cd282bf-11a1-4dfa-bf5c-d1ace1bf3757",
   "metadata": {},
   "source": [
    "Of course, the numeric representation contains the *components* of the state vector relative to some basis."
   ]
  },
  {
   "cell_type": "markdown",
   "id": "e22f7218-b799-495b-9730-50af48813716",
   "metadata": {},
   "source": [
    "#### Algebra of State Vectors"
   ]
  },
  {
   "cell_type": "code",
   "execution_count": 50,
   "id": "a657616a-42d4-4444-8573-d66a7d8a6294",
   "metadata": {},
   "outputs": [],
   "source": [
    "# let's create a basis -- independent vectors (non-parallel)\n",
    "e1 = ket(\"0\")\n",
    "e2 = ket(\"1\")"
   ]
  },
  {
   "cell_type": "code",
   "execution_count": 52,
   "id": "6fa0c8bb-9d15-4277-9ab2-6662d2c088eb",
   "metadata": {},
   "outputs": [
    {
     "data": {
      "text/latex": [
       "Quantum object: dims=[[2], [1]], shape=(2, 1), type='ket', dtype=Dense$$\\left(\\begin{array}{cc}2\\\\-3\\end{array}\\right)$$"
      ],
      "text/plain": [
       "Quantum object: dims=[[2], [1]], shape=(2, 1), type='ket', dtype=Dense\n",
       "Qobj data =\n",
       "[[ 2.]\n",
       " [-3.]]"
      ]
     },
     "execution_count": 52,
     "metadata": {},
     "output_type": "execute_result"
    }
   ],
   "source": [
    "q = 2*e1 - 3*e2  # \"superposition\" of ket-vectors -- also ket vector\n",
    "\n",
    "q"
   ]
  },
  {
   "cell_type": "code",
   "execution_count": 53,
   "id": "f678c347-7306-4330-afdb-55133d64b392",
   "metadata": {},
   "outputs": [
    {
     "data": {
      "text/latex": [
       "Quantum object: dims=[[1], [2]], shape=(1, 2), type='bra', dtype=Dense$$\\left(\\begin{array}{cc}2 & -3\\end{array}\\right)$$"
      ],
      "text/plain": [
       "Quantum object: dims=[[1], [2]], shape=(1, 2), type='bra', dtype=Dense\n",
       "Qobj data =\n",
       "[[ 2. -3.]]"
      ]
     },
     "execution_count": 53,
     "metadata": {},
     "output_type": "execute_result"
    }
   ],
   "source": [
    "q.dag()"
   ]
  },
  {
   "cell_type": "markdown",
   "id": "72813344-90d0-4761-966f-e2fd855f20dd",
   "metadata": {},
   "source": [
    "Next, let's use from operators that act on ket-vectors. There are some simple operators that come with QuTIP. \n",
    "But let us define our own, the familiar operator $\\hat{J}$."
   ]
  },
  {
   "cell_type": "code",
   "execution_count": 68,
   "id": "8aa38fe7-8f53-4c64-8f7a-d45fd3553717",
   "metadata": {},
   "outputs": [
    {
     "data": {
      "text/latex": [
       "Quantum object: dims=[[2], [2]], shape=(2, 2), type='oper', dtype=Dense, isherm=False$$\\left(\\begin{array}{cc}0 & -1\\\\1 & 0\\end{array}\\right)$$"
      ],
      "text/plain": [
       "Quantum object: dims=[[2], [2]], shape=(2, 2), type='oper', dtype=Dense, isherm=False\n",
       "Qobj data =\n",
       "[[ 0. -1.]\n",
       " [ 1.  0.]]"
      ]
     },
     "execution_count": 68,
     "metadata": {},
     "output_type": "execute_result"
    }
   ],
   "source": [
    "J = Qobj([[0, -1], [1, 0]])\n",
    "J"
   ]
  },
  {
   "cell_type": "markdown",
   "id": "6fba53b9-4e29-4cb2-8aee-70b0f92684a1",
   "metadata": {},
   "source": [
    "NOTE: Notice the type of this quantum object -- 'oper', meaning 'operator'. "
   ]
  },
  {
   "cell_type": "markdown",
   "id": "bfec85be-a778-4f32-a2f8-f887969f74c1",
   "metadata": {},
   "source": [
    "There is a special name for identiy operator represented as a table/matrix -- eye matrix."
   ]
  },
  {
   "cell_type": "code",
   "execution_count": 70,
   "id": "79deb14d-8196-477c-8da2-7f07a3360f15",
   "metadata": {},
   "outputs": [],
   "source": [
    "from qutip import qeye"
   ]
  },
  {
   "cell_type": "code",
   "execution_count": 75,
   "id": "52b531fd-2b16-4301-b818-9800a43034e2",
   "metadata": {},
   "outputs": [
    {
     "data": {
      "text/latex": [
       "Quantum object: dims=[[2], [2]], shape=(2, 2), type='oper', dtype=Dia, isherm=True$$\\left(\\begin{array}{cc}1 & 0\\\\0 & 1\\end{array}\\right)$$"
      ],
      "text/plain": [
       "Quantum object: dims=[[2], [2]], shape=(2, 2), type='oper', dtype=Dia, isherm=True\n",
       "Qobj data =\n",
       "[[1. 0.]\n",
       " [0. 1.]]"
      ]
     },
     "execution_count": 75,
     "metadata": {},
     "output_type": "execute_result"
    }
   ],
   "source": [
    "I = qeye(2)  # identity operator for vectors in a plane (2D state vectors)\n",
    "I"
   ]
  },
  {
   "cell_type": "code",
   "execution_count": 85,
   "id": "6060e65d-8fba-4d85-9b97-cc63a0f99bd1",
   "metadata": {},
   "outputs": [
    {
     "data": {
      "text/plain": [
       "True"
      ]
     },
     "execution_count": 85,
     "metadata": {},
     "output_type": "execute_result"
    }
   ],
   "source": [
    "# identity operator does not change state vectors\n",
    "I*e1 == e1"
   ]
  },
  {
   "cell_type": "markdown",
   "id": "6e110c35-c0fa-4d65-ac44-cd6ef99176af",
   "metadata": {},
   "source": [
    "Let's check if $\\hat{J}$ has expected properties:\n",
    "\n",
    "$\\hat{J}^2=-1=-\\hat{I}$\n",
    "\n",
    "$\\hat{J}\\,|e_1\\rangle=|e_2\\rangle$\n",
    "\n",
    "$\\hat{J}\\,|e_2\\rangle=-|e_1\\rangle$"
   ]
  },
  {
   "cell_type": "code",
   "execution_count": 84,
   "id": "ffe97cbc-a567-4858-bdfe-62c1ce025d91",
   "metadata": {},
   "outputs": [
    {
     "data": {
      "text/plain": [
       "(True, True, True)"
      ]
     },
     "execution_count": 84,
     "metadata": {},
     "output_type": "execute_result"
    }
   ],
   "source": [
    "# let's check if J does what it is supposed to.\n",
    "# J^2 must be equal to -1, J|e1>=|e2>, J|e2>=-|e1>\n",
    "J*J == -I, J*e1 == e2, J*e2 == -e1"
   ]
  },
  {
   "cell_type": "markdown",
   "id": "207936af-587e-4504-94e1-1a453bb90af4",
   "metadata": {},
   "source": [
    "-------------------------------------------------------------------------------END OF PART A--------------------------------------------------------------------"
   ]
  },
  {
   "cell_type": "markdown",
   "id": "d7e413a4-7bba-499a-8c5f-e96a17bc1f86",
   "metadata": {},
   "source": [
    "## Part B: Oscillator States and Operators"
   ]
  },
  {
   "cell_type": "markdown",
   "id": "0322c9aa-932e-44f2-9350-0550a7753195",
   "metadata": {},
   "source": [
    "Let's play with state vectors of systems that are more complicated that qubits. Qubit has only two states. Qutrit -- three states. Qudit -- d states.\n",
    "\n",
    "Hydrogen atom has infinite number of states.\n",
    "\n",
    "Quantum oscillator has infinite number of states. State of quantum oscillator are called Fock states, after Soviet physicist Vladimir Fock.\n",
    "Fock states: $|0\\rangle,\\,|1\\rangle,\\,|2\\rangle,\\,\\ldots, |n\\rangle,\\,\\ldots$"
   ]
  },
  {
   "cell_type": "code",
   "execution_count": 86,
   "id": "d4406a33-074f-444f-a243-bb108acae803",
   "metadata": {},
   "outputs": [],
   "source": [
    "from qutip import fock"
   ]
  },
  {
   "cell_type": "code",
   "execution_count": 96,
   "id": "0546e378-4880-4689-bfe4-13a661f1b691",
   "metadata": {},
   "outputs": [],
   "source": [
    "# let's grab the first 4 states from oscillator states.\n",
    "m = 4  # how many states out of infinity we will use in computations.\n",
    "f1, f2, f3, f4 = fock(m, 0), fock(m, 1), fock(m, 2), fock(m, 3)"
   ]
  },
  {
   "cell_type": "markdown",
   "id": "c604bb73-546e-427b-970c-1ba4ce6c32c9",
   "metadata": {},
   "source": [
    "Let's take a look at their numeric representations"
   ]
  },
  {
   "cell_type": "code",
   "execution_count": 97,
   "id": "2c651561-03a0-4a93-af7e-5e44d4a06a46",
   "metadata": {},
   "outputs": [
    {
     "data": {
      "text/latex": [
       "Quantum object: dims=[[4], [1]], shape=(4, 1), type='ket', dtype=Dense$$\\left(\\begin{array}{cc}1\\\\0\\\\0\\\\0\\end{array}\\right)$$"
      ],
      "text/plain": [
       "Quantum object: dims=[[4], [1]], shape=(4, 1), type='ket', dtype=Dense\n",
       "Qobj data =\n",
       "[[1.]\n",
       " [0.]\n",
       " [0.]\n",
       " [0.]]"
      ]
     },
     "execution_count": 97,
     "metadata": {},
     "output_type": "execute_result"
    }
   ],
   "source": [
    "f1"
   ]
  },
  {
   "cell_type": "code",
   "execution_count": 98,
   "id": "57e40b5d-6f62-4a92-bbad-838cde6cd17b",
   "metadata": {},
   "outputs": [
    {
     "data": {
      "text/latex": [
       "Quantum object: dims=[[4], [1]], shape=(4, 1), type='ket', dtype=Dense$$\\left(\\begin{array}{cc}0\\\\1\\\\0\\\\0\\end{array}\\right)$$"
      ],
      "text/plain": [
       "Quantum object: dims=[[4], [1]], shape=(4, 1), type='ket', dtype=Dense\n",
       "Qobj data =\n",
       "[[0.]\n",
       " [1.]\n",
       " [0.]\n",
       " [0.]]"
      ]
     },
     "execution_count": 98,
     "metadata": {},
     "output_type": "execute_result"
    }
   ],
   "source": [
    "f2"
   ]
  },
  {
   "cell_type": "code",
   "execution_count": 99,
   "id": "ac5ae722-a9c8-4437-ba86-3ee38563c327",
   "metadata": {},
   "outputs": [
    {
     "data": {
      "text/latex": [
       "Quantum object: dims=[[4], [1]], shape=(4, 1), type='ket', dtype=Dense$$\\left(\\begin{array}{cc}0\\\\0\\\\1\\\\0\\end{array}\\right)$$"
      ],
      "text/plain": [
       "Quantum object: dims=[[4], [1]], shape=(4, 1), type='ket', dtype=Dense\n",
       "Qobj data =\n",
       "[[0.]\n",
       " [0.]\n",
       " [1.]\n",
       " [0.]]"
      ]
     },
     "execution_count": 99,
     "metadata": {},
     "output_type": "execute_result"
    }
   ],
   "source": [
    "f3"
   ]
  },
  {
   "cell_type": "code",
   "execution_count": 100,
   "id": "d8d19c22-8f46-40b2-93e5-da1ce7c91e26",
   "metadata": {},
   "outputs": [
    {
     "data": {
      "text/latex": [
       "Quantum object: dims=[[4], [1]], shape=(4, 1), type='ket', dtype=Dense$$\\left(\\begin{array}{cc}0\\\\0\\\\0\\\\1\\end{array}\\right)$$"
      ],
      "text/plain": [
       "Quantum object: dims=[[4], [1]], shape=(4, 1), type='ket', dtype=Dense\n",
       "Qobj data =\n",
       "[[0.]\n",
       " [0.]\n",
       " [0.]\n",
       " [1.]]"
      ]
     },
     "execution_count": 100,
     "metadata": {},
     "output_type": "execute_result"
    }
   ],
   "source": [
    "f4"
   ]
  },
  {
   "cell_type": "markdown",
   "id": "ef965fe1-16b5-43cf-a9ef-d92221f6f0b7",
   "metadata": {},
   "source": [
    "Again, we can form sums with coefficients (superpositions) of Fock states"
   ]
  },
  {
   "cell_type": "code",
   "execution_count": 101,
   "id": "70fb7751-9aa3-456b-a723-b46ee25de355",
   "metadata": {},
   "outputs": [
    {
     "data": {
      "text/latex": [
       "Quantum object: dims=[[4], [1]], shape=(4, 1), type='ket', dtype=Dense$$\\left(\\begin{array}{cc}1\\\\2\\\\-0.500\\\\3\\end{array}\\right)$$"
      ],
      "text/plain": [
       "Quantum object: dims=[[4], [1]], shape=(4, 1), type='ket', dtype=Dense\n",
       "Qobj data =\n",
       "[[ 1. ]\n",
       " [ 2. ]\n",
       " [-0.5]\n",
       " [ 3. ]]"
      ]
     },
     "execution_count": 101,
     "metadata": {},
     "output_type": "execute_result"
    }
   ],
   "source": [
    "psi = f1 + 2*f2 - f3/2 + 3*f4\n",
    "\n",
    "psi"
   ]
  },
  {
   "cell_type": "markdown",
   "id": "4d3d858d-d61d-40aa-8883-5f5bc6cc0859",
   "metadata": {},
   "source": [
    "How about cojugated vectors $\\langle f_i|$ and $\\langle \\psi|$?"
   ]
  },
  {
   "cell_type": "code",
   "execution_count": 102,
   "id": "f7027c53-a5f7-4f7a-b73e-3ea4bdd9726a",
   "metadata": {},
   "outputs": [
    {
     "data": {
      "text/latex": [
       "Quantum object: dims=[[1], [4]], shape=(1, 4), type='bra', dtype=Dense$$\\left(\\begin{array}{cc}1 & 0 & 0 & 0\\end{array}\\right)$$"
      ],
      "text/plain": [
       "Quantum object: dims=[[1], [4]], shape=(1, 4), type='bra', dtype=Dense\n",
       "Qobj data =\n",
       "[[1. 0. 0. 0.]]"
      ]
     },
     "execution_count": 102,
     "metadata": {},
     "output_type": "execute_result"
    }
   ],
   "source": [
    "f1.dag()"
   ]
  },
  {
   "cell_type": "code",
   "execution_count": 103,
   "id": "9854c40b-e0fc-4585-9716-6ad0f50b9fdb",
   "metadata": {},
   "outputs": [
    {
     "data": {
      "text/latex": [
       "Quantum object: dims=[[1], [4]], shape=(1, 4), type='bra', dtype=Dense$$\\left(\\begin{array}{cc}1 & 2 & -0.500 & 3\\end{array}\\right)$$"
      ],
      "text/plain": [
       "Quantum object: dims=[[1], [4]], shape=(1, 4), type='bra', dtype=Dense\n",
       "Qobj data =\n",
       "[[ 1.   2.  -0.5  3. ]]"
      ]
     },
     "execution_count": 103,
     "metadata": {},
     "output_type": "execute_result"
    }
   ],
   "source": [
    "psi.dag()"
   ]
  },
  {
   "cell_type": "markdown",
   "id": "5a4d3996-9e84-4e1d-9326-392f4a4dc70e",
   "metadata": {},
   "source": [
    "### Bracket -- Scalar product"
   ]
  },
  {
   "cell_type": "markdown",
   "id": "8fc3cb26-5745-432b-8b97-713ef0c22556",
   "metadata": {},
   "source": [
    "$\\langle f_1|f_1\\rangle$"
   ]
  },
  {
   "cell_type": "code",
   "execution_count": 104,
   "id": "2756ecfd-db5b-4e1a-a657-eeaf00c65a98",
   "metadata": {},
   "outputs": [
    {
     "data": {
      "text/plain": [
       "(1+0j)"
      ]
     },
     "execution_count": 104,
     "metadata": {},
     "output_type": "execute_result"
    }
   ],
   "source": [
    "f1.dag() * f1"
   ]
  },
  {
   "cell_type": "markdown",
   "id": "bcf7b370-9e6f-4654-9730-0117a7cbc4d1",
   "metadata": {},
   "source": [
    "$\\langle \\psi|\\psi\\rangle$"
   ]
  },
  {
   "cell_type": "code",
   "execution_count": 105,
   "id": "e1230201-a9d0-4a71-a633-c9f2f0209694",
   "metadata": {},
   "outputs": [
    {
     "data": {
      "text/plain": [
       "(14.25+0j)"
      ]
     },
     "execution_count": 105,
     "metadata": {},
     "output_type": "execute_result"
    }
   ],
   "source": [
    "psi.dag() * psi"
   ]
  },
  {
   "cell_type": "markdown",
   "id": "d5d0c608-2b66-4f90-95d3-d997596732a8",
   "metadata": {},
   "source": [
    "# Exercises"
   ]
  },
  {
   "cell_type": "markdown",
   "id": "02249756-47ec-45af-8380-2f656ee4dc5e",
   "metadata": {},
   "source": []
  },
  {
   "cell_type": "code",
   "execution_count": null,
   "id": "1b0e1195-500d-49b5-9298-8dc9c71f8cfc",
   "metadata": {},
   "outputs": [],
   "source": []
  }
 ],
 "metadata": {
  "jupytext": {
   "cell_metadata_filter": "-all",
   "notebook_metadata_filter": "-jupytext.cell_metadata_filter,-jupytext.notebook_metadata_filter"
  },
  "kernelspec": {
   "display_name": "Python 3 (ipykernel)",
   "language": "python",
   "name": "python3"
  },
  "language_info": {
   "codemirror_mode": {
    "name": "ipython",
    "version": 3
   },
   "file_extension": ".py",
   "mimetype": "text/x-python",
   "name": "python",
   "nbconvert_exporter": "python",
   "pygments_lexer": "ipython3",
   "version": "3.12.6"
  }
 },
 "nbformat": 4,
 "nbformat_minor": 5
}
